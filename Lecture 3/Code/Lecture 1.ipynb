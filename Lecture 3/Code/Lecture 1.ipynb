{
 "cells": [
  {
   "cell_type": "markdown",
   "metadata": {},
   "source": [
    "# Lecture 1"
   ]
  },
  {
   "cell_type": "markdown",
   "metadata": {},
   "source": [
    "**Setting up the environment to use OpenCV**\n",
    "\n",
    "Note that Google Colab will be suitable for our use, except when working with the WebCam."
   ]
  },
  {
   "cell_type": "markdown",
   "metadata": {},
   "source": [
    "**Let's Start with installing OpenCV using pip**"
   ]
  },
  {
   "cell_type": "code",
   "execution_count": null,
   "metadata": {},
   "outputs": [],
   "source": [
    "pip install opencv-python"
   ]
  },
  {
   "cell_type": "markdown",
   "metadata": {},
   "source": [
    "**Importing Libraries**"
   ]
  },
  {
   "cell_type": "code",
   "execution_count": 2,
   "metadata": {},
   "outputs": [],
   "source": [
    "import cv2 # Importing Opencv\n",
    "import numpy as np # We use numpy to deal with arrays and vectors\n",
    "# For google colab users\n",
    "# from google.colab.patches import cv2_imshow"
   ]
  },
  {
   "cell_type": "markdown",
   "metadata": {},
   "source": [
    "**Reading Image and Display it**"
   ]
  },
  {
   "cell_type": "code",
   "execution_count": 38,
   "metadata": {},
   "outputs": [],
   "source": [
    "image = cv2.imread(\"imagePath.jpg\") # Read Image\n",
    "\n",
    "cv2.imshow(\"Image Tab\", image) # Display Image\n",
    "cv2.waitKey(5000) # Display it for 5 Seconds...\n",
    "cv2.destroyAllWindows() # This function just to close the image tab"
   ]
  },
  {
   "cell_type": "markdown",
   "metadata": {},
   "source": [
    "**Resize Image**"
   ]
  },
  {
   "cell_type": "code",
   "execution_count": 14,
   "metadata": {},
   "outputs": [
    {
     "name": "stdout",
     "output_type": "stream",
     "text": [
      "(966, 1280, 3)\n"
     ]
    }
   ],
   "source": [
    "# Resize by keeping the same aspect ratio\n",
    "# You need to get image shape \"Width and Height\"\n",
    "\n",
    "print(image.shape)\n",
    "Height = image.shape[0] # Rows\n",
    "Width = image.shape[1] # Columns\n",
    "\n",
    "\n",
    "image = cv2.resize(image, (int(Height/2), int(Width/2))) # To Reduce Image Size by 2 \n",
    "# image = cv2.resize(image, (int(Height*2), int(Width*2))) # To increase Image Size by 2\n",
    "# Don't forget to cast to integer\n",
    "cv2.imshow(\"Image Tab\", image)\n",
    "cv2.waitKey(0)\n",
    "cv2.destroyAllWindows()\n",
    "\n",
    "\n",
    "\n",
    "# Resize the image to a specific size\n",
    "image = cv2.resize(image, (960, 540))\n",
    "cv2.imshow(\"Image Tab\", image)\n",
    "cv2.waitKey(0)\n",
    "cv2.destroyAllWindows()"
   ]
  },
  {
   "cell_type": "markdown",
   "metadata": {},
   "source": [
    "**Change Image Color Space**"
   ]
  },
  {
   "cell_type": "code",
   "execution_count": 30,
   "metadata": {},
   "outputs": [
    {
     "name": "stdout",
     "output_type": "stream",
     "text": [
      "(966, 1280)\n"
     ]
    }
   ],
   "source": [
    "# As we noticed when printing the image shape that there are 3 color channels\n",
    "# For OpenCV, the default color space for images is BGR (Blue, Green, Red), Then How to change it to RGB or Gray Scale color space?\n",
    "# We can use cv2.cvtColor() function to convert the color space of the image\n",
    "\n",
    "image = cv2.cvtColor(image, cv2.COLOR_BGR2RGB) # Convert to RGB\n",
    "image = cv2.cvtColor(image, cv2.COLOR_RGB2GRAY) # Convert to Gray Scale\n",
    "\n",
    "\n",
    "cv2.imshow(\"Image Tab\", image) \n",
    "cv2.waitKey(0)\n",
    "cv2.destroyAllWindows()\n",
    "\n",
    "print(image.shape) # As we noticed the image shape now is 2D (Only Rows and Columns) only"
   ]
  },
  {
   "cell_type": "markdown",
   "metadata": {},
   "source": [
    "**Save image in your device**"
   ]
  },
  {
   "cell_type": "code",
   "execution_count": 21,
   "metadata": {},
   "outputs": [
    {
     "data": {
      "text/plain": [
       "True"
      ]
     },
     "execution_count": 21,
     "metadata": {},
     "output_type": "execute_result"
    }
   ],
   "source": [
    "cv2.imwrite(\"NewName.png\", image)"
   ]
  },
  {
   "cell_type": "markdown",
   "metadata": {},
   "source": [
    "**Read Video and Display it**"
   ]
  },
  {
   "cell_type": "code",
   "execution_count": 3,
   "metadata": {},
   "outputs": [],
   "source": [
    "Video = cv2.VideoCapture(\"VideoPath.mp4\") # Read Video\n",
    "\n",
    "while True: # Loop to read the video frame by frame\n",
    "\n",
    "    next, frame = Video.read() # Read Frame\n",
    "\n",
    "    # check if there's a frame\n",
    "    if next: # If there's a frame\n",
    "        # Display the resulting frame\n",
    "        cv2.imshow('Video', frame)\n",
    "\n",
    "        # Exit on 'q' key\n",
    "        if cv2.waitKey(1) == ord('q'): # Wait for 1ms and check if the key is 'q'\n",
    "            break \n",
    "    else: # If there's no frame\n",
    "        break\n",
    "\n",
    "Video.release() # Release the Video\n",
    "cv2.destroyAllWindows() # Close all the tabs "
   ]
  },
  {
   "cell_type": "markdown",
   "metadata": {},
   "source": [
    "**Save Video on Your Machine**"
   ]
  },
  {
   "cell_type": "code",
   "execution_count": 23,
   "metadata": {},
   "outputs": [],
   "source": [
    "# To write a video on your machine. You need to create a VideoWriter object and pass the file name, the codec, the frame rate, and the frame size.\n",
    "\n",
    "# Firstly, Read Video \n",
    "Video = cv2.VideoCapture(\"VideoPath.mp4\") \n",
    "\n",
    "output_file = 'output.mp4' # Define the output file name\n",
    "fourcc = cv2.VideoWriter_fourcc(*'MP4V') # Define the codec to use\n",
    "fps = Video.get(cv2.CAP_PROP_FPS) # You can use the frame rate of the video you read\n",
    "# fps = 30 # or you can define your own frame rate\n",
    "frame_size = (int(Video.get(cv2.CAP_PROP_FRAME_WIDTH)), int(Video.get(cv2.CAP_PROP_FRAME_HEIGHT))) # You can use the frame size of the video you read\n",
    "# Another method to get the frame size by reading the first frame of the video and get its shape \n",
    "\n",
    "# Create the VideoWriter object\n",
    "video_writer = cv2.VideoWriter(output_file, fourcc, fps, frame_size)\n",
    "\n",
    "while True: \n",
    "    next, frame = Video.read() \n",
    "    if next:\n",
    "        # Write the frame\n",
    "        video_writer.write(frame)\n",
    "    else:\n",
    "        break\n",
    "\n",
    "Video.release() # Release the Video\n",
    "video_writer.release() # Release the Video Writer\n",
    "cv2.destroyAllWindows() # Close all the tabs"
   ]
  },
  {
   "cell_type": "markdown",
   "metadata": {},
   "source": [
    "**Read from your WebCam**"
   ]
  },
  {
   "cell_type": "code",
   "execution_count": 24,
   "metadata": {},
   "outputs": [],
   "source": [
    "# To read the webcam, you can use the same method as reading the video, but you need to pass the index of the webcam instead of the video path\n",
    "\n",
    "Webcam = cv2.VideoCapture(0) # Read Webcam\n",
    "\n",
    "while True: # Loop to read the webcam frame by frame\n",
    "    \n",
    "        next, frame = Webcam.read() # Read Frame\n",
    "    \n",
    "        # check if there's a frame\n",
    "        if next: # If there's a frame\n",
    "            # Display the resulting frame\n",
    "            cv2.imshow('Webcam Stream', frame)\n",
    "    \n",
    "            # Exit on 'q' key\n",
    "            if cv2.waitKey(1) == ord('q'): # Wait for 1ms and check if the key is 'q'\n",
    "                break \n",
    "        else: # If there's no frame\n",
    "            break\n",
    "\n",
    "cv2.destroyAllWindows() # Close all the tabs\n",
    "Webcam.release() # Release the Webcam"
   ]
  },
  {
   "cell_type": "markdown",
   "metadata": {},
   "source": [
    "# Edit specific frames of a video "
   ]
  },
  {
   "cell_type": "markdown",
   "metadata": {},
   "source": [
    "**A simple Exercise**\n",
    "\n",
    "We want to edit video frames based on their order in a repeated sequence.\n",
    "\n",
    "1- The first 60 frames: Resize down to half the size.\n",
    "\n",
    "2- The next 70 frames: Convert to grayscale.\n",
    "\n",
    "3- The next 30 frames: Convert to full black frames. Then, repeat the process."
   ]
  },
  {
   "cell_type": "markdown",
   "metadata": {},
   "source": [
    "**Some Notes to consider**"
   ]
  },
  {
   "cell_type": "code",
   "execution_count": 4,
   "metadata": {},
   "outputs": [
    {
     "name": "stdout",
     "output_type": "stream",
     "text": [
      "[24 20 15]\n"
     ]
    }
   ],
   "source": [
    "# We can deal with images as arrays.\n",
    "# For example to get the pixel values of a specific pixel in the image\n",
    "\n",
    "image = cv2.imread(\"imagePath.jpg\") # Read Image\n",
    "pixel = image[100, 100] # Get the pixel values of the pixel at the position (100, 100)\n",
    "print(pixel) # Print the pixel values\n",
    "\n",
    "# A quick reminder Black pixel value is (0, 0, 0) and White pixel value is (255, 255, 255)"
   ]
  },
  {
   "cell_type": "markdown",
   "metadata": {},
   "source": [
    "**Since our image is in BGR color space**\n",
    "\n",
    "**The values for the pixel (100,100): Blue = 24, Green = 20, Red = 15**"
   ]
  },
  {
   "cell_type": "markdown",
   "metadata": {},
   "source": [
    "**Now Let's start with our exercise**"
   ]
  },
  {
   "cell_type": "code",
   "execution_count": 7,
   "metadata": {},
   "outputs": [],
   "source": [
    "# Read video\n",
    "Video = cv2.VideoCapture(\"VideoPath.mp4\")\n",
    "\n",
    "counter = 0\n",
    "\n",
    "while True:\n",
    "    next, frame = Video.read() # Read Frame\n",
    "    if next:\n",
    "        \n",
    "        counter += 1\n",
    "        if counter <= 60:\n",
    "            frame = cv2.resize(frame, (int(frame.shape[1]/2), int(frame.shape[0]/2)))\n",
    "        elif counter <= 130:\n",
    "            frame = cv2.cvtColor(frame, cv2.COLOR_BGR2GRAY)\n",
    "        elif counter <= 160:\n",
    "            frame[:] = 0\n",
    "        else:\n",
    "            counter = 0\n",
    "        \n",
    "        cv2.imshow('Video Stream', frame)\n",
    "        if cv2.waitKey(1) == ord('q'):\n",
    "            break\n",
    "\n",
    "    else:\n",
    "        break\n",
    "\n",
    "Video.release()\n",
    "cv2.destroyAllWindows()"
   ]
  }
 ],
 "metadata": {
  "kernelspec": {
   "display_name": "Python 3",
   "language": "python",
   "name": "python3"
  },
  "language_info": {
   "codemirror_mode": {
    "name": "ipython",
    "version": 3
   },
   "file_extension": ".py",
   "mimetype": "text/x-python",
   "name": "python",
   "nbconvert_exporter": "python",
   "pygments_lexer": "ipython3",
   "version": "3.12.1"
  }
 },
 "nbformat": 4,
 "nbformat_minor": 2
}
